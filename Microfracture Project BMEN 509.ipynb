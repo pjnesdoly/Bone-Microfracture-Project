{
 "cells": [
  {
   "cell_type": "markdown",
   "metadata": {},
   "source": [
    "# BMEN 509 Bone Project\n",
    "\n",
    "This document contains the image processing completed on the micro-CT bone core samples acquirred in the Manske lab.\n",
    "\n",
    "Outlined in this notebook is the image processing pipeline that takes in NIFTI files converted to density units and\n",
    "\n",
    "#### -Registers micro CT pre and post loaded bone samples \n",
    "\n",
    "#### -Segments pre and post loaded samples to a user defined bone threshold\n",
    "\n",
    "#### -Overlays the pre and post samples for microfracture comparison\n",
    "\n",
    "#### -Calculates % overlay\n",
    "\n",
    "The notebook does this for one set of samples but was adapted for other samples\n",
    "\n",
    "Created by Parker Nesdoly, Lauren Brown, Amelia Woodard\n",
    "\n",
    "Last Edit - April 10, 2019"
   ]
  },
  {
   "cell_type": "markdown",
   "metadata": {},
   "source": [
    "## Importing Libraries and Setting Up Constants"
   ]
  },
  {
   "cell_type": "code",
   "execution_count": null,
   "metadata": {},
   "outputs": [],
   "source": [
    "# Installing and importing necessary libraries used within processing pipeline\n",
    "\n",
    "!pip install pydicom\n",
    "!pip install nibabel\n",
    "!pip install opencv-python\n",
    "!pip install SimpleITK\n",
    "\n",
    "import os\n",
    "import numpy as np\n",
    "import matplotlib.pyplot as plt\n",
    "import nibabel as nib\n",
    "import pydicom\n",
    "import cv2\n",
    "import SimpleITK as sitk\n",
    "import matplotlib.patches as mpatches"
   ]
  },
  {
   "cell_type": "code",
   "execution_count": null,
   "metadata": {},
   "outputs": [],
   "source": [
    "# Defining files name and data directory variables\n",
    "data_directory = os.path.join('.', 'nii')\n",
    "file_names = [\n",
    "    'nPost5.2C0016420.nii',\n",
    "    'nPost5.3C0016421.nii',  \n",
    "    'nPre5.2C0016343.nii', 'nPre5.3C0016346.nii', \n",
    "]"
   ]
  },
  {
   "cell_type": "code",
   "execution_count": null,
   "metadata": {},
   "outputs": [],
   "source": [
    "# Define necessary processing constants to be consistent throughout the notebook\n",
    "\n",
    "threshold=550 # density threshold value\n",
    "\n",
    "plot_slice = 300 #This is the # slice we are looking at"
   ]
  },
  {
   "cell_type": "markdown",
   "metadata": {},
   "source": [
    "## Defining Functions"
   ]
  },
  {
   "cell_type": "code",
   "execution_count": null,
   "metadata": {},
   "outputs": [],
   "source": [
    "#Check all files are there and named properly\n",
    "for file_name in file_names:\n",
    "    name = os.path.join(data_directory, file_name)\n",
    "    if not os.path.isfile(name):\n",
    "        os.sys.exit('Cannot find file {}. Please make sure you have downloaded the data'.format(name))\n",
    "print('Found all image files!')"
   ]
  },
  {
   "cell_type": "code",
   "execution_count": null,
   "metadata": {},
   "outputs": [],
   "source": [
    "def segment(image, threshold):\n",
    "    \"Segmentation function used to compute a threshold segmentation mask and return image mask\"\n",
    "    return image>=threshold # return threshold mask"
   ]
  },
  {
   "cell_type": "code",
   "execution_count": null,
   "metadata": {},
   "outputs": [],
   "source": [
    "def plotAll(image, slice_number):\n",
    "    \"Function to plot all views of an image at a defined slice add cmap = grey if desired\"\n",
    "    \n",
    "    plt.subplots(1, 3, figsize=(15, 15))\n",
    "    plt.subplot(1, 3, 1); plt.imshow(sitk.GetArrayFromImage(image[:, :, slice_number]), cmap = \"gray\"); plt.title(\"View 1\", fontsize = 16)\n",
    "    plt.subplot(1, 3, 2); plt.imshow(sitk.GetArrayFromImage(image[:, slice_number, :]), cmap = \"gray\"); plt.title(\"View 2\", fontsize = 16)\n",
    "    plt.subplot(1, 3, 3); plt.imshow(sitk.GetArrayFromImage(image[slice_number, :, :]), cmap = \"gray\"); plt.title(\"View 3\", fontsize = 16)\n",
    "    "
   ]
  },
  {
   "cell_type": "code",
   "execution_count": null,
   "metadata": {},
   "outputs": [],
   "source": [
    "def resample (fixed, moving, trfm):\n",
    "    \"\"\"Function to resample a moving image through a determined trasnform in relation to a fixed image\"\"\"\n",
    "    resampler = sitk.ResampleImageFilter()\n",
    "    resampler.SetReferenceImage(fixed) # set the fixed image to be the fixed image\n",
    "    resampler.SetInterpolator(sitk.sitkBSpline) # interpolating using BSpline\n",
    "    resampler.SetDefaultPixelValue(0) # Anything outside is set to zero \n",
    "    resampler.SetTransform(trfm) #Set transform function as trfm\n",
    "\n",
    "    outImg = resampler.Execute(moving) #we are executing the filter on the input image\n",
    "    return (outImg) #return the output image"
   ]
  },
  {
   "cell_type": "code",
   "execution_count": null,
   "metadata": {},
   "outputs": [],
   "source": [
    "def command_iteration(method) :\n",
    "    \"\"\"Function to use as additional comming registration method to print out registration values\"\"\"\n",
    "    print(\"{0:3} = {1:10.5f} : {2}\".format(method.GetOptimizerIteration(),\n",
    "                                           method.GetMetricValue(),\n",
    "                                           method.GetOptimizerPosition()), flush=True)"
   ]
  },
  {
   "cell_type": "code",
   "execution_count": null,
   "metadata": {},
   "outputs": [],
   "source": [
    "def overlay(image1, image2):\n",
    "    \"Function that takes two segmented images and overlays them to see corresponding areas\"\n",
    "    \n",
    "    image1 = image1*2 # Converting image 1 to 2's and zeros\n",
    "    overlayImage = image1 + image2\n",
    " \n",
    "    #overlayImage = overlayImage == 1 # use for only the residual 1's\n",
    "    #overlayImage = overlayImage == 2 # use for only the residual 2's\n",
    "    #overlayImage = overlayImage == 3 # use for only the the overlapping/alligned areas\n",
    "    #overlayImage = overlayImage == 1 or 2 # use for Only the non-overlapping areas\n",
    "    \n",
    "    # Use this section to see the non overlapping areas in different colours\n",
    "    #overlayImage1 = overlayImage == 1\n",
    "    #overlayImage2 = (overlayImage == 2)*2\n",
    "    #overlayImage = overlayImage1+overlayImage2\n",
    "    \n",
    "    return overlayImage\n",
    "    "
   ]
  },
  {
   "cell_type": "markdown",
   "metadata": {},
   "source": [
    "## Reading in Images and Implementing Manual Initial Transform Iteration"
   ]
  },
  {
   "cell_type": "code",
   "execution_count": null,
   "metadata": {},
   "outputs": [],
   "source": [
    "# Reading in fixed and moving CT images (NIFTI) through SITK\n",
    "post52 = sitk.ReadImage(os.path.join(data_directory, 'nPost5.2C0016420.nii'))\n",
    "pre52 = sitk.ReadImage(os.path.join(data_directory, 'nPre5.2C0016343.nii'))\n",
    "\n",
    "fixed = post52\n",
    "moving = pre52"
   ]
  },
  {
   "cell_type": "code",
   "execution_count": null,
   "metadata": {},
   "outputs": [],
   "source": [
    "tx = sitk.Transform(fixed.GetDimension(), sitk.sitkEuler)#this is our transform, it will return the dimensions of the transform, using the euler transform\n",
    "\n",
    "# Initial transform values found through visual estimation and trial and error\n",
    "tx.SetParameters( [np.pi, 0.0, 0, 1.5, 0.0, 0.0] ) # we have 6 degrees of freedom, 3 translational and 3 rotational through xyz\n",
    "\n",
    "# Changing transform point around center rather than an arbitrary location\n",
    "center_cont = [float(x)/2.0 for x in moving.GetSize()]\n",
    "center = list(moving.TransformContinuousIndexToPhysicalPoint(center_cont)) + [0]\n",
    "tx.SetFixedParameters(center)\n",
    "\n",
    "# Second initial transform manual setting\n",
    "tx2 = sitk.Transform(fixed.GetDimension(), sitk.sitkEuler) #this is our second transform, it will return the dimensions of the transform, using the euler transform\n",
    "tx2.SetParameters( [0.0, 0.0, -np.pi/180.0*10.0, 0.0, 0.0, 0.0] ) # we have 6 degrees of freedom, 3 in the xyz, and 3 rotational\n",
    "tx2.SetFixedParameters(center)\n",
    "\n",
    "# Adding our transforms to the transform methof\n",
    "composite = sitk.Transform(fixed.GetDimension(), sitk.sitkComposite)\n",
    "composite.AddTransform(tx)\n",
    "composite.AddTransform(tx2)"
   ]
  },
  {
   "cell_type": "code",
   "execution_count": null,
   "metadata": {},
   "outputs": [],
   "source": [
    "# using the resample function to align the 'moving' image with the fixed using the manual transform defined above\n",
    "transformed = resample(fixed, moving, composite)\n",
    "\n",
    "# Write out the image to visual identify quality of transformation in ITK Snap\n",
    "sitk.WriteImage(transformed, os.path.join(data_directory, 'nPre5.2C0016343_Init.nii'))"
   ]
  },
  {
   "cell_type": "markdown",
   "metadata": {},
   "source": [
    "## Conduct Registration on Moving and Fixed Images"
   ]
  },
  {
   "cell_type": "code",
   "execution_count": null,
   "metadata": {},
   "outputs": [],
   "source": [
    "R = sitk.ImageRegistrationMethod() # Set up registration method\n",
    "R.SetMetricAsCorrelation() # define the registration metric as correlation\n",
    "\n",
    "R.SetOptimizerAsGradientDescent( # define the optimizer as gradient descent and specify parameters of the optimization\n",
    "    learningRate=2.0,\n",
    "    numberOfIterations=100,\n",
    "    convergenceMinimumValue=1e-6,\n",
    "    convergenceWindowSize=10,\n",
    "    estimateLearningRate=sitk.ImageRegistrationMethod.EachIteration,\n",
    "    maximumStepSizeInPhysicalUnits=0.0\n",
    ")\n",
    "R.SetInitialTransform(composite) # set the initial transformation values as the manually predefined ones above \n",
    "R.SetInterpolator(sitk.sitkLinear) # setting the interpolator as linear \n",
    "\n",
    "# setting up smoothing and shirnkage factors for the registrations\n",
    "R.SetShrinkFactorsPerLevel([4, 2, 1])\n",
    "R.SetSmoothingSigmasPerLevel([0.1, 0.05, 0.0])\n",
    "R.SmoothingSigmasAreSpecifiedInPhysicalUnitsOn()\n",
    "\n",
    "# using the above defined function to output iterative optimization values\n",
    "R.AddCommand( sitk.sitkIterationEvent, lambda: command_iteration(R) )\n",
    "\n",
    "# Calculate final transform\n",
    "print('Starting registration...')\n",
    "final_trfm = R.Execute(fixed, moving)"
   ]
  },
  {
   "cell_type": "code",
   "execution_count": null,
   "metadata": {},
   "outputs": [],
   "source": [
    "#using the resample with the final transform, moving the image through the tranform\n",
    "transformed = resample(fixed, moving, final_trfm)\n",
    "\n",
    "# Writing out image to be used in ITK Snap\n",
    "sitk.WriteImage(transformed, os.path.join(data_directory, 'nPre5.2C0016343_final.nii'))"
   ]
  },
  {
   "cell_type": "markdown",
   "metadata": {},
   "source": [
    "## Segmentation and Overlay"
   ]
  },
  {
   "cell_type": "code",
   "execution_count": null,
   "metadata": {},
   "outputs": [],
   "source": [
    "## code to run to overlay and segment\n",
    "post52seg = segment(fixed, threshold) #segment fixed image\n",
    "pre52seg = segment(transformed, threshold) # segment transformed image\n",
    "\n",
    "overlayImage1 = overlay(post52seg, pre52seg) # Overlay images - using specified commented method in defined function\n",
    "\n",
    "#plot to visualize\n",
    "plotAll(fixed, plot_slice)\n",
    "plotAll(moving, plot_slice)\n",
    "plotAll(post52seg, plot_slice)\n",
    "plotAll(pre52seg, plot_slice)\n",
    "plotAll(overlayImage1, plot_slice)"
   ]
  },
  {
   "cell_type": "markdown",
   "metadata": {},
   "source": [
    "## Calculation of Overlay Percentage"
   ]
  },
  {
   "cell_type": "code",
   "execution_count": null,
   "metadata": {},
   "outputs": [],
   "source": [
    "#Number of pixels (bone) in 5.2 preloading sample\n",
    "preimage = nib.load(os.path.join(data_directory, 'nPre5.2C0016343_mask.nii'))\n",
    "preimg_data_arr = np.asarray(preimage.get_data())\n",
    "print(np.count_nonzero(preimg_data_arr))\n",
    "\n",
    "#Number of pixels (bone) in 5.2 postloading sample\n",
    "postimage = nib.load(os.path.join(data_directory, 'nPost5.2C0016420_mask.nii'))\n",
    "postimg_data_arr = np.asarray(postimage.get_data())\n",
    "print(np.count_nonzero(postimg_data_arr))\n",
    "\n",
    "#Number of pixels (bone) in 5.2 overlay, only the the overlapping/alligned areas\n",
    "OL52 = nib.load(os.path.join(data_directory, '5.2_overlay.nii'))\n",
    "OLA52 = np.asarray(OL52.get_data())\n",
    "print(np.count_nonzero(OLA52))\n",
    "\n",
    "# % 5.2 overlay over pre-loading \n",
    "prepercent52 = (np.count_nonzero(OLA52))*100/(np.count_nonzero(preimg_data_arr))\n",
    "print(prepercent52)\n",
    "\n",
    "# % 5.2 overlay over post-loading \n",
    "postpercent52 = (np.count_nonzero(OLA52))*100/(np.count_nonzero(postimg_data_arr))\n",
    "print(postpercent52)"
   ]
  }
 ],
 "metadata": {
  "kernelspec": {
   "display_name": "Python 3",
   "language": "python",
   "name": "python3"
  },
  "language_info": {
   "codemirror_mode": {
    "name": "ipython",
    "version": 3
   },
   "file_extension": ".py",
   "mimetype": "text/x-python",
   "name": "python",
   "nbconvert_exporter": "python",
   "pygments_lexer": "ipython3",
   "version": "3.7.1"
  }
 },
 "nbformat": 4,
 "nbformat_minor": 2
}
